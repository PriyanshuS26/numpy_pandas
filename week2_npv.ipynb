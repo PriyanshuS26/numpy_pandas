{
 "cells": [
  {
   "cell_type": "markdown",
   "id": "4a0480c6",
   "metadata": {},
   "source": [
    "## day_1"
   ]
  },
  {
   "cell_type": "code",
   "execution_count": 2,
   "id": "c51fd308",
   "metadata": {},
   "outputs": [],
   "source": [
    "import numpy as np"
   ]
  },
  {
   "cell_type": "code",
   "execution_count": 7,
   "id": "403a1bfa",
   "metadata": {},
   "outputs": [
    {
     "name": "stdout",
     "output_type": "stream",
     "text": [
      "<class 'list'>\n"
     ]
    }
   ],
   "source": [
    "mylist1=[1,2,3,4,5]\n",
    "print(type(mylist1))"
   ]
  },
  {
   "cell_type": "code",
   "execution_count": 9,
   "id": "62cb89b0",
   "metadata": {},
   "outputs": [
    {
     "name": "stdout",
     "output_type": "stream",
     "text": [
      "[1 2 3 4 5]\n"
     ]
    }
   ],
   "source": [
    "n1=np.array(mylist1)\n",
    "print(n1)"
   ]
  },
  {
   "cell_type": "code",
   "execution_count": 10,
   "id": "7a3e2803",
   "metadata": {},
   "outputs": [
    {
     "name": "stdout",
     "output_type": "stream",
     "text": [
      "[[5.2 3.  4.5]\n",
      " [9.1 6.4 4.2]]\n"
     ]
    }
   ],
   "source": [
    "n1=[[5.2,3.0,4.5],[9.1,6.4,4.2]]\n",
    "n2=np.array(n1)\n",
    "print(n2)"
   ]
  },
  {
   "cell_type": "code",
   "execution_count": 14,
   "id": "a3ded233",
   "metadata": {},
   "outputs": [
    {
     "data": {
      "text/plain": [
       "array([[1, 1, 1, 1],\n",
       "       [1, 1, 1, 1],\n",
       "       [1, 1, 1, 1]])"
      ]
     },
     "execution_count": 14,
     "metadata": {},
     "output_type": "execute_result"
    }
   ],
   "source": [
    "np.ones(shape=(3,4), dtype=np.int32)"
   ]
  },
  {
   "cell_type": "code",
   "execution_count": 17,
   "id": "ac1174b0",
   "metadata": {},
   "outputs": [
    {
     "data": {
      "text/plain": [
       "array([[55, 55, 55, 55],\n",
       "       [55, 55, 55, 55],\n",
       "       [55, 55, 55, 55]])"
      ]
     },
     "execution_count": 17,
     "metadata": {},
     "output_type": "execute_result"
    }
   ],
   "source": [
    "np.full(shape=(3,4), fill_value=55)"
   ]
  },
  {
   "cell_type": "code",
   "execution_count": null,
   "id": "c5f4c66d",
   "metadata": {},
   "outputs": [],
   "source": []
  },
  {
   "cell_type": "code",
   "execution_count": 25,
   "id": "20e07f3c",
   "metadata": {},
   "outputs": [
    {
     "name": "stdout",
     "output_type": "stream",
     "text": [
      "[10 12 14 16 18 20 22 24 26 28]\n",
      "(10,)\n"
     ]
    }
   ],
   "source": [
    "n1= np.arange(10,30,2)\n",
    "print(n1)\n",
    "print(n1.shape)"
   ]
  },
  {
   "cell_type": "code",
   "execution_count": 24,
   "id": "16622bd1",
   "metadata": {},
   "outputs": [
    {
     "data": {
      "text/plain": [
       "array([10.1, 10.6, 11.1, 11.6, 12.1, 12.6, 13.1, 13.6, 14.1, 14.6, 15.1,\n",
       "       15.6, 16.1, 16.6, 17.1, 17.6, 18.1, 18.6, 19.1, 19.6, 20.1])"
      ]
     },
     "execution_count": 24,
     "metadata": {},
     "output_type": "execute_result"
    }
   ],
   "source": [
    "np.arange(10.1,20.3,.5)"
   ]
  },
  {
   "cell_type": "code",
   "execution_count": 26,
   "id": "b9441e63",
   "metadata": {},
   "outputs": [
    {
     "name": "stdout",
     "output_type": "stream",
     "text": [
      "(12,)\n",
      "[ 0  1  2  3  4  5  6  7  8  9 10 11]\n"
     ]
    }
   ],
   "source": [
    "n1=np.arange(12)\n",
    "print(n1.shape)\n",
    "print(n1)"
   ]
  },
  {
   "cell_type": "code",
   "execution_count": 27,
   "id": "efca90f3",
   "metadata": {},
   "outputs": [
    {
     "name": "stdout",
     "output_type": "stream",
     "text": [
      "(12,)\n",
      "[ 0  1  2  3  4  5  6  7  8  9 10 11]\n",
      "\n",
      "(3, 4)\n"
     ]
    },
    {
     "data": {
      "text/plain": [
       "array([[ 0,  1,  2,  3],\n",
       "       [ 4,  5,  6,  7],\n",
       "       [ 8,  9, 10, 11]])"
      ]
     },
     "execution_count": 27,
     "metadata": {},
     "output_type": "execute_result"
    }
   ],
   "source": [
    "n1=np.arange(12)\n",
    "print(n1.shape)\n",
    "print(n1)\n",
    "print()\n",
    "n34=n1.reshape((3,4))\n",
    "print(n34.shape)\n",
    "n34"
   ]
  },
  {
   "cell_type": "code",
   "execution_count": 5,
   "id": "124fbada",
   "metadata": {},
   "outputs": [
    {
     "ename": "ValueError",
     "evalue": "cannot reshape array of size 12 into shape (3,2)",
     "output_type": "error",
     "traceback": [
      "\u001b[1;31m---------------------------------------------------------------------------\u001b[0m",
      "\u001b[1;31mValueError\u001b[0m                                Traceback (most recent call last)",
      "\u001b[1;32m<ipython-input-5-d5b4193c6c43>\u001b[0m in \u001b[0;36m<module>\u001b[1;34m\u001b[0m\n\u001b[1;32m----> 1\u001b[1;33m \u001b[0mn\u001b[0m\u001b[1;33m=\u001b[0m\u001b[0mnp\u001b[0m\u001b[1;33m.\u001b[0m\u001b[0marange\u001b[0m\u001b[1;33m(\u001b[0m\u001b[1;36m0\u001b[0m\u001b[1;33m,\u001b[0m\u001b[1;36m12\u001b[0m\u001b[1;33m)\u001b[0m\u001b[1;33m.\u001b[0m\u001b[0mreshape\u001b[0m\u001b[1;33m(\u001b[0m\u001b[1;33m(\u001b[0m\u001b[1;36m3\u001b[0m\u001b[1;33m,\u001b[0m\u001b[1;36m2\u001b[0m\u001b[1;33m)\u001b[0m\u001b[1;33m)\u001b[0m  \u001b[1;31m#error\u001b[0m\u001b[1;33m\u001b[0m\u001b[1;33m\u001b[0m\u001b[0m\n\u001b[0m\u001b[0;32m      2\u001b[0m \u001b[0mprint\u001b[0m\u001b[1;33m(\u001b[0m\u001b[0mn\u001b[0m\u001b[1;33m.\u001b[0m\u001b[0mshape\u001b[0m\u001b[1;33m)\u001b[0m\u001b[1;33m\u001b[0m\u001b[1;33m\u001b[0m\u001b[0m\n\u001b[0;32m      3\u001b[0m \u001b[0mn\u001b[0m\u001b[1;33m\u001b[0m\u001b[1;33m\u001b[0m\u001b[0m\n",
      "\u001b[1;31mValueError\u001b[0m: cannot reshape array of size 12 into shape (3,2)"
     ]
    }
   ],
   "source": [
    "n=np.arange(0,12).reshape((3,2))  #error\n",
    "print(n.shape)\n",
    "n"
   ]
  },
  {
   "cell_type": "code",
   "execution_count": 29,
   "id": "9ebbdfa7",
   "metadata": {},
   "outputs": [
    {
     "data": {
      "text/plain": [
       "array([ 0,  1,  2,  3,  4,  5,  6,  7,  8,  9, 10, 11])"
      ]
     },
     "execution_count": 29,
     "metadata": {},
     "output_type": "execute_result"
    }
   ],
   "source": [
    "np.arange(12)        #both are diff"
   ]
  },
  {
   "cell_type": "code",
   "execution_count": 30,
   "id": "8b2a35e9",
   "metadata": {},
   "outputs": [
    {
     "data": {
      "text/plain": [
       "array([[ 0,  1,  2,  3,  4,  5,  6,  7,  8,  9, 10, 11]])"
      ]
     },
     "execution_count": 30,
     "metadata": {},
     "output_type": "execute_result"
    }
   ],
   "source": [
    "np.arange(12).reshape(1,12)    #both are diff"
   ]
  },
  {
   "cell_type": "code",
   "execution_count": 32,
   "id": "20319631",
   "metadata": {},
   "outputs": [
    {
     "name": "stdout",
     "output_type": "stream",
     "text": [
      "(30303, 4)\n"
     ]
    }
   ],
   "source": [
    "n=np.arange(121212).reshape(-1,4)     #to know the last shape if one of dimesnsion is given\n",
    "print(n.shape)"
   ]
  },
  {
   "cell_type": "code",
   "execution_count": 33,
   "id": "c691f7c1",
   "metadata": {},
   "outputs": [
    {
     "ename": "ValueError",
     "evalue": "can only specify one unknown dimension",
     "output_type": "error",
     "traceback": [
      "\u001b[1;31m---------------------------------------------------------------------------\u001b[0m",
      "\u001b[1;31mValueError\u001b[0m                                Traceback (most recent call last)",
      "\u001b[1;32m<ipython-input-33-edcc2b6a3dd2>\u001b[0m in \u001b[0;36m<module>\u001b[1;34m\u001b[0m\n\u001b[1;32m----> 1\u001b[1;33m \u001b[0mn\u001b[0m\u001b[1;33m=\u001b[0m\u001b[0mnp\u001b[0m\u001b[1;33m.\u001b[0m\u001b[0marange\u001b[0m\u001b[1;33m(\u001b[0m\u001b[1;36m121212\u001b[0m\u001b[1;33m)\u001b[0m\u001b[1;33m.\u001b[0m\u001b[0mreshape\u001b[0m\u001b[1;33m(\u001b[0m\u001b[1;33m-\u001b[0m\u001b[1;36m1\u001b[0m\u001b[1;33m,\u001b[0m\u001b[1;33m-\u001b[0m\u001b[1;36m1\u001b[0m\u001b[1;33m)\u001b[0m     \u001b[1;31m#error\u001b[0m\u001b[1;33m\u001b[0m\u001b[1;33m\u001b[0m\u001b[0m\n\u001b[0m\u001b[0;32m      2\u001b[0m \u001b[0mprint\u001b[0m\u001b[1;33m(\u001b[0m\u001b[0mn\u001b[0m\u001b[1;33m.\u001b[0m\u001b[0mshape\u001b[0m\u001b[1;33m)\u001b[0m\u001b[1;33m\u001b[0m\u001b[1;33m\u001b[0m\u001b[0m\n",
      "\u001b[1;31mValueError\u001b[0m: can only specify one unknown dimension"
     ]
    }
   ],
   "source": [
    "n=np.arange(121212).reshape(-1,-1)     #error = can only specify one unknown dimension\n",
    "print(n.shape)"
   ]
  },
  {
   "cell_type": "markdown",
   "id": "99802f7c",
   "metadata": {},
   "source": [
    "## creation of matrix using random values"
   ]
  },
  {
   "cell_type": "code",
   "execution_count": 34,
   "id": "9f9e7a10",
   "metadata": {},
   "outputs": [
    {
     "data": {
      "text/plain": [
       "['BitGenerator',\n",
       " 'Generator',\n",
       " 'MT19937',\n",
       " 'PCG64',\n",
       " 'Philox',\n",
       " 'RandomState',\n",
       " 'SFC64',\n",
       " 'SeedSequence',\n",
       " '__RandomState_ctor',\n",
       " '__all__',\n",
       " '__builtins__',\n",
       " '__cached__',\n",
       " '__doc__',\n",
       " '__file__',\n",
       " '__loader__',\n",
       " '__name__',\n",
       " '__package__',\n",
       " '__path__',\n",
       " '__spec__',\n",
       " '_bounded_integers',\n",
       " '_common',\n",
       " '_generator',\n",
       " '_mt19937',\n",
       " '_pcg64',\n",
       " '_philox',\n",
       " '_pickle',\n",
       " '_sfc64',\n",
       " 'beta',\n",
       " 'binomial',\n",
       " 'bit_generator',\n",
       " 'bytes',\n",
       " 'chisquare',\n",
       " 'choice',\n",
       " 'default_rng',\n",
       " 'dirichlet',\n",
       " 'exponential',\n",
       " 'f',\n",
       " 'gamma',\n",
       " 'geometric',\n",
       " 'get_state',\n",
       " 'gumbel',\n",
       " 'hypergeometric',\n",
       " 'laplace',\n",
       " 'logistic',\n",
       " 'lognormal',\n",
       " 'logseries',\n",
       " 'mtrand',\n",
       " 'multinomial',\n",
       " 'multivariate_normal',\n",
       " 'negative_binomial',\n",
       " 'noncentral_chisquare',\n",
       " 'noncentral_f',\n",
       " 'normal',\n",
       " 'pareto',\n",
       " 'permutation',\n",
       " 'poisson',\n",
       " 'power',\n",
       " 'rand',\n",
       " 'randint',\n",
       " 'randn',\n",
       " 'random',\n",
       " 'random_integers',\n",
       " 'random_sample',\n",
       " 'ranf',\n",
       " 'rayleigh',\n",
       " 'sample',\n",
       " 'seed',\n",
       " 'set_state',\n",
       " 'shuffle',\n",
       " 'standard_cauchy',\n",
       " 'standard_exponential',\n",
       " 'standard_gamma',\n",
       " 'standard_normal',\n",
       " 'standard_t',\n",
       " 'test',\n",
       " 'triangular',\n",
       " 'uniform',\n",
       " 'vonmises',\n",
       " 'wald',\n",
       " 'weibull',\n",
       " 'zipf']"
      ]
     },
     "execution_count": 34,
     "metadata": {},
     "output_type": "execute_result"
    }
   ],
   "source": [
    "dir(np.random)"
   ]
  },
  {
   "cell_type": "code",
   "execution_count": 35,
   "id": "1374c496",
   "metadata": {},
   "outputs": [
    {
     "data": {
      "text/plain": [
       "array([11, 18, 19, 14, 17, 11, 12, 17, 15, 11])"
      ]
     },
     "execution_count": 35,
     "metadata": {},
     "output_type": "execute_result"
    }
   ],
   "source": [
    "np.random.randint(low=10, high=20, size=10)"
   ]
  },
  {
   "cell_type": "code",
   "execution_count": 36,
   "id": "cc6f0b60",
   "metadata": {},
   "outputs": [
    {
     "data": {
      "text/plain": [
       "array([[19, 17, 19, 19, 10],\n",
       "       [12, 11, 11, 18, 16],\n",
       "       [17, 17, 11, 12, 10],\n",
       "       [13, 19, 18, 11, 10],\n",
       "       [16, 19, 17, 17, 19]])"
      ]
     },
     "execution_count": 36,
     "metadata": {},
     "output_type": "execute_result"
    }
   ],
   "source": [
    "np.random.randint(low=10, high=20, size=(5,5))"
   ]
  },
  {
   "cell_type": "code",
   "execution_count": 37,
   "id": "e4308b13",
   "metadata": {},
   "outputs": [
    {
     "data": {
      "text/plain": [
       "array([[19, 18, 14, 10, 10],\n",
       "       [18, 13, 12, 11, 18],\n",
       "       [19, 16, 10, 14, 16],\n",
       "       [14, 14, 17, 18, 19],\n",
       "       [15, 16, 15, 12, 16]])"
      ]
     },
     "execution_count": 37,
     "metadata": {},
     "output_type": "execute_result"
    }
   ],
   "source": [
    "np.random.seed(21)       # for fixing the values\n",
    "np.random.randint(low=10, high=20, size=(5,5))"
   ]
  },
  {
   "cell_type": "code",
   "execution_count": 38,
   "id": "8b5aae63",
   "metadata": {},
   "outputs": [
    {
     "data": {
      "text/plain": [
       "array([[19, 18, 14, 10, 10],\n",
       "       [18, 13, 12, 11, 18],\n",
       "       [19, 16, 10, 14, 16]])"
      ]
     },
     "execution_count": 38,
     "metadata": {},
     "output_type": "execute_result"
    }
   ],
   "source": [
    "np.random.seed(21)       # for fixing the values\n",
    "np.random.randint(low=10, high=20, size=(3,5))"
   ]
  },
  {
   "cell_type": "code",
   "execution_count": 40,
   "id": "760ce606",
   "metadata": {},
   "outputs": [
    {
     "name": "stdout",
     "output_type": "stream",
     "text": [
      "[[0.04872488 0.28910966 0.72096635 0.02161625 0.20592277]\n",
      " [0.05077326 0.30227189 0.66391029 0.30811439 0.58359128]\n",
      " [0.06957095 0.86740448 0.13324052 0.17812466 0.49592955]\n",
      " [0.86369964 0.75894384 0.97048513 0.75930255 0.38425003]\n",
      " [0.40871833 0.71336043 0.27066977 0.85410287 0.91316397]]\n",
      "0.021616249915949792\n",
      "0.9704851253491577\n",
      "0.47343870993985987\n"
     ]
    }
   ],
   "source": [
    "np.random.seed(21)\n",
    "n=np.random.rand(5,5)\n",
    "print(n)\n",
    "print(n.min())\n",
    "print(n.max())\n",
    "print(n.mean())"
   ]
  },
  {
   "cell_type": "code",
   "execution_count": null,
   "id": "d3406f08",
   "metadata": {},
   "outputs": [],
   "source": []
  },
  {
   "cell_type": "code",
   "execution_count": 42,
   "id": "40ab1b55",
   "metadata": {},
   "outputs": [],
   "source": [
    "import seaborn as sns"
   ]
  },
  {
   "cell_type": "code",
   "execution_count": 43,
   "id": "5218e645",
   "metadata": {},
   "outputs": [
    {
     "data": {
      "text/plain": [
       "<AxesSubplot:>"
      ]
     },
     "execution_count": 43,
     "metadata": {},
     "output_type": "execute_result"
    },
    {
     "data": {
      "image/png": "[encoded data removed]",
      "text/plain": [
       "<Figure size 432x288 with 1 Axes>"
      ]
     },
     "metadata": {
      "needs_background": "light"
     },
     "output_type": "display_data"
    }
   ],
   "source": [
    "sns.scatterplot(x=n.ravel(),y=n.T.ravel())"
   ]
  },
  {
   "cell_type": "code",
   "execution_count": null,
   "id": "cf328439",
   "metadata": {},
   "outputs": [],
   "source": []
  },
  {
   "cell_type": "markdown",
   "id": "5a3b7d12",
   "metadata": {},
   "source": [
    "## operations on NP arrays"
   ]
  },
  {
   "cell_type": "code",
   "execution_count": 44,
   "id": "e25ff9d8",
   "metadata": {},
   "outputs": [
    {
     "data": {
      "text/plain": [
       "array([[ 0,  1,  2,  3,  4,  5],\n",
       "       [ 6,  7,  8,  9, 10, 11],\n",
       "       [12, 13, 14, 15, 16, 17],\n",
       "       [18, 19, 20, 21, 22, 23],\n",
       "       [24, 25, 26, 27, 28, 29]])"
      ]
     },
     "execution_count": 44,
     "metadata": {},
     "output_type": "execute_result"
    }
   ],
   "source": [
    "n34a=np.arange(30).reshape(5,6)\n",
    "n34a"
   ]
  },
  {
   "cell_type": "code",
   "execution_count": 54,
   "id": "f800a908",
   "metadata": {},
   "outputs": [
    {
     "data": {
      "text/plain": [
       "array([[ 0,  1,  2,  3,  4,  5],\n",
       "       [ 6,  7,  8,  9, 10, 11],\n",
       "       [12, 13, 14, 15, 16, 17],\n",
       "       [18, 19, 20, 21, 22, 23],\n",
       "       [24, 25, 26, 27, 28, 29]])"
      ]
     },
     "execution_count": 54,
     "metadata": {},
     "output_type": "execute_result"
    }
   ],
   "source": [
    "n34a=np.arange(30).reshape(5,6)\n",
    "n34b=np.arange(30).reshape(5,6)\n",
    "n34b"
   ]
  },
  {
   "cell_type": "code",
   "execution_count": 50,
   "id": "418fa948",
   "metadata": {},
   "outputs": [
    {
     "data": {
      "text/plain": [
       "array([[ 0,  2,  4,  6,  8, 10],\n",
       "       [12, 14, 16, 18, 20, 22],\n",
       "       [24, 26, 28, 30, 32, 34],\n",
       "       [36, 38, 40, 42, 44, 46],\n",
       "       [48, 50, 52, 54, 56, 58]])"
      ]
     },
     "execution_count": 50,
     "metadata": {},
     "output_type": "execute_result"
    }
   ],
   "source": [
    "n34a + n34b"
   ]
  },
  {
   "cell_type": "code",
   "execution_count": 51,
   "id": "bf19feab",
   "metadata": {},
   "outputs": [
    {
     "data": {
      "text/plain": [
       "array([[0, 0, 0, 0, 0, 0],\n",
       "       [0, 0, 0, 0, 0, 0],\n",
       "       [0, 0, 0, 0, 0, 0],\n",
       "       [0, 0, 0, 0, 0, 0],\n",
       "       [0, 0, 0, 0, 0, 0]])"
      ]
     },
     "execution_count": 51,
     "metadata": {},
     "output_type": "execute_result"
    }
   ],
   "source": [
    "n34a-n34b"
   ]
  },
  {
   "cell_type": "code",
   "execution_count": 56,
   "id": "9637c566",
   "metadata": {},
   "outputs": [
    {
     "data": {
      "text/plain": [
       "array([[ 0,  6, 12, 18, 24],\n",
       "       [ 1,  7, 13, 19, 25],\n",
       "       [ 2,  8, 14, 20, 26],\n",
       "       [ 3,  9, 15, 21, 27],\n",
       "       [ 4, 10, 16, 22, 28],\n",
       "       [ 5, 11, 17, 23, 29]])"
      ]
     },
     "execution_count": 56,
     "metadata": {},
     "output_type": "execute_result"
    }
   ],
   "source": [
    "n43=n34b.T\n",
    "n43"
   ]
  },
  {
   "cell_type": "markdown",
   "id": "c751ec0a",
   "metadata": {},
   "source": [
    "## accessing arrays"
   ]
  },
  {
   "cell_type": "code",
   "execution_count": 96,
   "id": "0d347ebb",
   "metadata": {},
   "outputs": [
    {
     "data": {
      "text/plain": [
       "array([[93, 50, 83, 64, 41, 86, 49, 35, 61],\n",
       "       [16, 55, 22, 59, 76, 85, 95, 79, 74],\n",
       "       [22, 31, 58, 51, 89, 72, 67, 29, 43],\n",
       "       [69, 49, 25, 46, 75, 11, 53, 25, 96],\n",
       "       [93, 68, 35, 76, 84, 45, 66, 23, 70],\n",
       "       [32, 48, 41, 88, 10, 31, 16, 42, 42],\n",
       "       [24, 41, 88, 93, 90, 80, 76, 92, 95],\n",
       "       [65, 37, 72, 53, 84, 81, 52, 93, 31]])"
      ]
     },
     "execution_count": 96,
     "metadata": {},
     "output_type": "execute_result"
    }
   ],
   "source": [
    "np.random.seed(23)\n",
    "n89=np.random.randint(low=10,high=100,size=(8,9))\n",
    "n89"
   ]
  },
  {
   "cell_type": "code",
   "execution_count": 58,
   "id": "e7ba8588",
   "metadata": {},
   "outputs": [
    {
     "data": {
      "text/plain": [
       "array([93, 50, 83, 64, 41, 86, 49, 35, 61])"
      ]
     },
     "execution_count": 58,
     "metadata": {},
     "output_type": "execute_result"
    }
   ],
   "source": [
    "n89[0]"
   ]
  },
  {
   "cell_type": "code",
   "execution_count": 60,
   "id": "712f40dc",
   "metadata": {},
   "outputs": [
    {
     "data": {
      "text/plain": [
       "83"
      ]
     },
     "execution_count": 60,
     "metadata": {},
     "output_type": "execute_result"
    }
   ],
   "source": [
    "n89[0][2]"
   ]
  },
  {
   "cell_type": "code",
   "execution_count": 61,
   "id": "51b97d6e",
   "metadata": {},
   "outputs": [
    {
     "data": {
      "text/plain": [
       "83"
      ]
     },
     "execution_count": 61,
     "metadata": {},
     "output_type": "execute_result"
    }
   ],
   "source": [
    "n89[0,2]    #faster"
   ]
  },
  {
   "cell_type": "raw",
   "id": "b6301d9d",
   "metadata": {},
   "source": [
    "grammer of acces\n",
    "\n",
    "* n89[row_index]\n",
    "* n89[roe_index, col_index]\n",
    "\n",
    "* n89[row_index_number:row_index_number] -> slicing of row\n",
    "* n89[row_index_number:row_index_number,col_index_number:col_index_number] -> slicing of row and col\n",
    "\n",
    "* n89[[list of row indices]]\n",
    "\n",
    "* n89[[list of n row indices] [list of n col indices]] -> values of the cordinates\n",
    "\n",
    "* n89[boolean values]\n",
    "\n",
    "* n89[(n89>50) & (n89%2==0)]"
   ]
  },
  {
   "cell_type": "code",
   "execution_count": 62,
   "id": "63b004c8",
   "metadata": {
    "scrolled": true
   },
   "outputs": [
    {
     "data": {
      "text/plain": [
       "array([[22, 31, 58, 51, 89, 72, 67, 29, 43],\n",
       "       [69, 49, 25, 46, 75, 11, 53, 25, 96],\n",
       "       [93, 68, 35, 76, 84, 45, 66, 23, 70]])"
      ]
     },
     "execution_count": 62,
     "metadata": {},
     "output_type": "execute_result"
    }
   ],
   "source": [
    "# slicing\n",
    "\n",
    "n89[2:5]"
   ]
  },
  {
   "cell_type": "code",
   "execution_count": 63,
   "id": "ffd80600",
   "metadata": {},
   "outputs": [
    {
     "data": {
      "text/plain": [
       "array([[22, 59, 76, 85, 95, 79],\n",
       "       [58, 51, 89, 72, 67, 29],\n",
       "       [25, 46, 75, 11, 53, 25],\n",
       "       [35, 76, 84, 45, 66, 23],\n",
       "       [41, 88, 10, 31, 16, 42]])"
      ]
     },
     "execution_count": 63,
     "metadata": {},
     "output_type": "execute_result"
    }
   ],
   "source": [
    "n89[1:6,2:8]"
   ]
  },
  {
   "cell_type": "code",
   "execution_count": 64,
   "id": "8914bbe4",
   "metadata": {},
   "outputs": [
    {
     "data": {
      "text/plain": [
       "array([[93, 50, 83, 64, 41, 86, 49, 35, 61],\n",
       "       [22, 31, 58, 51, 89, 72, 67, 29, 43],\n",
       "       [24, 41, 88, 93, 90, 80, 76, 92, 95],\n",
       "       [65, 37, 72, 53, 84, 81, 52, 93, 31]])"
      ]
     },
     "execution_count": 64,
     "metadata": {},
     "output_type": "execute_result"
    }
   ],
   "source": [
    "n89[[0,2,-2,-1]]    #vector bracket or vector access"
   ]
  },
  {
   "cell_type": "code",
   "execution_count": 65,
   "id": "e7b1d84c",
   "metadata": {},
   "outputs": [
    {
     "data": {
      "text/plain": [
       "array([64, 72, 42])"
      ]
     },
     "execution_count": 65,
     "metadata": {},
     "output_type": "execute_result"
    }
   ],
   "source": [
    "n89[[0,2,5],[3,-4,7]]"
   ]
  },
  {
   "cell_type": "code",
   "execution_count": 67,
   "id": "31a48426",
   "metadata": {},
   "outputs": [
    {
     "data": {
      "text/plain": [
       "array([[64, 41],\n",
       "       [59, 76],\n",
       "       [51, 89],\n",
       "       [46, 75],\n",
       "       [76, 84],\n",
       "       [88, 10],\n",
       "       [93, 90],\n",
       "       [53, 84]])"
      ]
     },
     "execution_count": 67,
     "metadata": {},
     "output_type": "execute_result"
    }
   ],
   "source": [
    "n89[:,3:5]"
   ]
  },
  {
   "cell_type": "code",
   "execution_count": 68,
   "id": "b78a1e2a",
   "metadata": {},
   "outputs": [
    {
     "data": {
      "text/plain": [
       "array([[64, 41],\n",
       "       [59, 76],\n",
       "       [51, 89],\n",
       "       [46, 75],\n",
       "       [76, 84],\n",
       "       [88, 10],\n",
       "       [93, 90],\n",
       "       [53, 84]])"
      ]
     },
     "execution_count": 68,
     "metadata": {},
     "output_type": "execute_result"
    }
   ],
   "source": [
    "n89[:,[3,4]]"
   ]
  },
  {
   "cell_type": "code",
   "execution_count": 70,
   "id": "fb66ed16",
   "metadata": {},
   "outputs": [
    {
     "data": {
      "text/plain": [
       "array([86, 85, 72, 11, 45, 31, 80, 81])"
      ]
     },
     "execution_count": 70,
     "metadata": {},
     "output_type": "execute_result"
    }
   ],
   "source": [
    "n89[:,-4]"
   ]
  },
  {
   "cell_type": "code",
   "execution_count": 69,
   "id": "e346aa81",
   "metadata": {},
   "outputs": [
    {
     "data": {
      "text/plain": [
       "array([[86],\n",
       "       [85],\n",
       "       [72],\n",
       "       [11],\n",
       "       [45],\n",
       "       [31],\n",
       "       [80],\n",
       "       [81]])"
      ]
     },
     "execution_count": 69,
     "metadata": {},
     "output_type": "execute_result"
    }
   ],
   "source": [
    "n89[:,[-4]]"
   ]
  },
  {
   "cell_type": "markdown",
   "id": "c792b456",
   "metadata": {},
   "source": [
    "### conditional access"
   ]
  },
  {
   "cell_type": "code",
   "execution_count": 97,
   "id": "08cad5c1",
   "metadata": {},
   "outputs": [
    {
     "data": {
      "text/plain": [
       "array([[93, 50, 83, 64, 41, 86, 49, 35, 61],\n",
       "       [16, 55, 22, 59, 76, 85, 95, 79, 74],\n",
       "       [22, 31, 58, 51, 89, 72, 67, 29, 43],\n",
       "       [69, 49, 25, 46, 75, 11, 53, 25, 96],\n",
       "       [93, 68, 35, 76, 84, 45, 66, 23, 70],\n",
       "       [32, 48, 41, 88, 10, 31, 16, 42, 42],\n",
       "       [24, 41, 88, 93, 90, 80, 76, 92, 95],\n",
       "       [65, 37, 72, 53, 84, 81, 52, 93, 31]])"
      ]
     },
     "execution_count": 97,
     "metadata": {},
     "output_type": "execute_result"
    }
   ],
   "source": [
    "n89"
   ]
  },
  {
   "cell_type": "code",
   "execution_count": 72,
   "id": "8acac615",
   "metadata": {},
   "outputs": [
    {
     "name": "stdout",
     "output_type": "stream",
     "text": [
      "[[ True False  True  True False  True False False  True]\n",
      " [False  True False  True  True  True  True  True  True]\n",
      " [False False  True  True  True  True  True False False]\n",
      " [ True False False False  True False  True False  True]\n",
      " [ True  True False  True  True False  True False  True]\n",
      " [False False False  True False False False False False]\n",
      " [False False  True  True  True  True  True  True  True]\n",
      " [ True False  True  True  True  True  True  True False]]\n",
      "<class 'numpy.ndarray'>\n"
     ]
    }
   ],
   "source": [
    "mask=n89>50\n",
    "print(mask)\n",
    "print(type(mask))"
   ]
  },
  {
   "cell_type": "code",
   "execution_count": 74,
   "id": "c0b6bf5e",
   "metadata": {},
   "outputs": [
    {
     "data": {
      "text/plain": [
       "dtype('bool')"
      ]
     },
     "execution_count": 74,
     "metadata": {},
     "output_type": "execute_result"
    }
   ],
   "source": [
    "mask.dtype"
   ]
  },
  {
   "cell_type": "code",
   "execution_count": 75,
   "id": "63149962",
   "metadata": {},
   "outputs": [
    {
     "data": {
      "text/plain": [
       "array([93, 83, 64, 86, 61, 55, 59, 76, 85, 95, 79, 74, 58, 51, 89, 72, 67,\n",
       "       69, 75, 53, 96, 93, 68, 76, 84, 66, 70, 88, 88, 93, 90, 80, 76, 92,\n",
       "       95, 65, 72, 53, 84, 81, 52, 93])"
      ]
     },
     "execution_count": 75,
     "metadata": {},
     "output_type": "execute_result"
    }
   ],
   "source": [
    "n89[mask]"
   ]
  },
  {
   "cell_type": "code",
   "execution_count": 76,
   "id": "8ec01751",
   "metadata": {},
   "outputs": [
    {
     "data": {
      "text/plain": [
       "array([93, 83, 64, 86, 61, 55, 59, 76, 85, 95, 79, 74, 58, 51, 89, 72, 67,\n",
       "       69, 75, 53, 96, 93, 68, 76, 84, 66, 70, 88, 88, 93, 90, 80, 76, 92,\n",
       "       95, 65, 72, 53, 84, 81, 52, 93])"
      ]
     },
     "execution_count": 76,
     "metadata": {},
     "output_type": "execute_result"
    }
   ],
   "source": [
    "n89[n89>50]"
   ]
  },
  {
   "cell_type": "code",
   "execution_count": 78,
   "id": "d5347cec",
   "metadata": {},
   "outputs": [
    {
     "data": {
      "text/plain": [
       "array([50, 64, 86, 16, 22, 76, 74, 22, 58, 72, 46, 96, 68, 76, 84, 66, 70,\n",
       "       32, 48, 88, 10, 16, 42, 42, 24, 88, 90, 80, 76, 92, 72, 84, 52])"
      ]
     },
     "execution_count": 78,
     "metadata": {},
     "output_type": "execute_result"
    }
   ],
   "source": [
    "n89[n89%2==0]"
   ]
  },
  {
   "cell_type": "code",
   "execution_count": 87,
   "id": "1725944b",
   "metadata": {},
   "outputs": [
    {
     "ename": "IndexError",
     "evalue": "index 93 is out of bounds for axis 0 with size 8",
     "output_type": "error",
     "traceback": [
      "\u001b[1;31m---------------------------------------------------------------------------\u001b[0m",
      "\u001b[1;31mIndexError\u001b[0m                                Traceback (most recent call last)",
      "\u001b[1;32m<ipython-input-87-73a67f4c5b69>\u001b[0m in \u001b[0;36m<module>\u001b[1;34m\u001b[0m\n\u001b[1;32m----> 1\u001b[1;33m \u001b[0mn89\u001b[0m\u001b[1;33m[\u001b[0m\u001b[1;36m93\u001b[0m\u001b[1;33m]\u001b[0m\u001b[1;33m\u001b[0m\u001b[1;33m\u001b[0m\u001b[0m\n\u001b[0m",
      "\u001b[1;31mIndexError\u001b[0m: index 93 is out of bounds for axis 0 with size 8"
     ]
    }
   ],
   "source": [
    "n89"
   ]
  },
  {
   "cell_type": "code",
   "execution_count": null,
   "id": "a934ac4c",
   "metadata": {},
   "outputs": [],
   "source": []
  },
  {
   "cell_type": "code",
   "execution_count": 83,
   "id": "990abd64",
   "metadata": {},
   "outputs": [
    {
     "data": {
      "text/plain": [
       "array([64, 86, 76, 74, 58, 72, 96, 68, 76, 84, 66, 70, 88, 88, 90, 80, 76,\n",
       "       92, 72, 84, 52])"
      ]
     },
     "execution_count": 83,
     "metadata": {},
     "output_type": "execute_result"
    }
   ],
   "source": [
    "n89[(n89%2==0) & (n89>50)]       #use bitwise operator(& or |) works not \"and\" in numpy python"
   ]
  },
  {
   "cell_type": "code",
   "execution_count": null,
   "id": "1d66e9e5",
   "metadata": {},
   "outputs": [],
   "source": [
    "## write back"
   ]
  },
  {
   "cell_type": "code",
   "execution_count": 89,
   "id": "8adaa0c1",
   "metadata": {},
   "outputs": [
    {
     "data": {
      "text/plain": [
       "array([[  93,   50,   83,   64,   41,   86,   49,   35,   61],\n",
       "       [  16,   55,   22,   59,   76,   85,   95,   79,   74],\n",
       "       [1212, 1212, 1212, 1212, 1212, 1212, 1212, 1212, 1212],\n",
       "       [1212, 1212, 1212, 1212, 1212, 1212, 1212, 1212, 1212],\n",
       "       [1212, 1212, 1212, 1212, 1212, 1212, 1212, 1212, 1212],\n",
       "       [  32,   48,   41,   88,   10,   31,   16,   42,   42],\n",
       "       [  24,   41,   88,   93,   90,   80,   76,   92,   95],\n",
       "       [  65,   37,   72,   53,   84,   81,   52,   93,   31]])"
      ]
     },
     "execution_count": 89,
     "metadata": {},
     "output_type": "execute_result"
    }
   ],
   "source": [
    "n89[2:5]=1212\n",
    "n89"
   ]
  },
  {
   "cell_type": "code",
   "execution_count": 93,
   "id": "27d935d5",
   "metadata": {},
   "outputs": [
    {
     "name": "stdout",
     "output_type": "stream",
     "text": [
      "[[ 0  1  2  3  4  5  6  7  8]\n",
      " [ 9 10 11 12 13 14 15 16 17]\n",
      " [18 19 20 21 22 23 24 25 26]]\n"
     ]
    }
   ],
   "source": [
    "n39=np.arange(27).reshape(3,9)\n",
    "print(n39)"
   ]
  },
  {
   "cell_type": "code",
   "execution_count": 98,
   "id": "64343f48",
   "metadata": {},
   "outputs": [
    {
     "data": {
      "text/plain": [
       "array([[93, 50, 83, 64, 41, 86, 49, 35, 61],\n",
       "       [16, 55, 22, 59, 76, 85, 95, 79, 74],\n",
       "       [ 0,  1,  2,  3,  4,  5,  6,  7,  8],\n",
       "       [ 9, 10, 11, 12, 13, 14, 15, 16, 17],\n",
       "       [18, 19, 20, 21, 22, 23, 24, 25, 26],\n",
       "       [32, 48, 41, 88, 10, 31, 16, 42, 42],\n",
       "       [24, 41, 88, 93, 90, 80, 76, 92, 95],\n",
       "       [65, 37, 72, 53, 84, 81, 52, 93, 31]])"
      ]
     },
     "execution_count": 98,
     "metadata": {},
     "output_type": "execute_result"
    }
   ],
   "source": [
    "n89[2:5]=n39\n",
    "n89"
   ]
  },
  {
   "cell_type": "code",
   "execution_count": 99,
   "id": "c89a9b04",
   "metadata": {},
   "outputs": [
    {
     "data": {
      "text/plain": [
       "array([[550,  50, 550, 550,  41, 550,  49,  35, 550],\n",
       "       [ 16, 550,  22, 550, 550, 550, 550, 550, 550],\n",
       "       [  0,   1,   2,   3,   4,   5,   6,   7,   8],\n",
       "       [  9,  10,  11,  12,  13,  14,  15,  16,  17],\n",
       "       [ 18,  19,  20,  21,  22,  23,  24,  25,  26],\n",
       "       [ 32,  48,  41, 550,  10,  31,  16,  42,  42],\n",
       "       [ 24,  41, 550, 550, 550, 550, 550, 550, 550],\n",
       "       [550,  37, 550, 550, 550, 550, 550, 550,  31]])"
      ]
     },
     "execution_count": 99,
     "metadata": {},
     "output_type": "execute_result"
    }
   ],
   "source": [
    "n89[n89>50]=550\n",
    "n89"
   ]
  },
  {
   "cell_type": "code",
   "execution_count": 100,
   "id": "838c70c8",
   "metadata": {},
   "outputs": [
    {
     "data": {
      "text/plain": [
       "array([[550,  50, 550, 550,  82, 550,  98,  70, 550],\n",
       "       [ 32, 550,  44, 550, 550, 550, 550, 550, 550],\n",
       "       [  0,   2,   4,   6,   8,  10,  12,  14,  16],\n",
       "       [ 18,  20,  22,  24,  26,  28,  30,  32,  34],\n",
       "       [ 36,  38,  40,  42,  44,  46,  48,  50,  52],\n",
       "       [ 64,  96,  82, 550,  20,  62,  32,  84,  84],\n",
       "       [ 48,  82, 550, 550, 550, 550, 550, 550, 550],\n",
       "       [550,  74, 550, 550, 550, 550, 550, 550,  62]])"
      ]
     },
     "execution_count": 100,
     "metadata": {},
     "output_type": "execute_result"
    }
   ],
   "source": [
    "n89[n89<50]=n89[n89<50]*2\n",
    "n89"
   ]
  },
  {
   "cell_type": "code",
   "execution_count": 101,
   "id": "e6d3dbef",
   "metadata": {},
   "outputs": [
    {
     "data": {
      "text/plain": [
       "array([[550,  74, 550, 550, 550, 550, 550, 550,  62],\n",
       "       [ 48,  82, 550, 550, 550, 550, 550, 550, 550],\n",
       "       [ 64,  96,  82, 550,  20,  62,  32,  84,  84],\n",
       "       [ 36,  38,  40,  42,  44,  46,  48,  50,  52],\n",
       "       [ 18,  20,  22,  24,  26,  28,  30,  32,  34],\n",
       "       [  0,   2,   4,   6,   8,  10,  12,  14,  16],\n",
       "       [ 32, 550,  44, 550, 550, 550, 550, 550, 550],\n",
       "       [550,  50, 550, 550,  82, 550,  98,  70, 550]])"
      ]
     },
     "execution_count": 101,
     "metadata": {},
     "output_type": "execute_result"
    }
   ],
   "source": [
    "n89[::-1]"
   ]
  },
  {
   "cell_type": "code",
   "execution_count": 102,
   "id": "b6f4c5aa",
   "metadata": {},
   "outputs": [],
   "source": [
    "n89=np.where(n89==8)      # locating"
   ]
  },
  {
   "cell_type": "markdown",
   "id": "ac188004",
   "metadata": {},
   "source": [
    "## Aggression "
   ]
  },
  {
   "cell_type": "code",
   "execution_count": 106,
   "id": "4a17909d",
   "metadata": {},
   "outputs": [
    {
     "data": {
      "text/plain": [
       "array([[ 7,  9, 10,  9],\n",
       "       [14, 13,  8,  7],\n",
       "       [14, 13, 18,  3]])"
      ]
     },
     "execution_count": 106,
     "metadata": {},
     "output_type": "execute_result"
    }
   ],
   "source": [
    "np.random.seed(23)\n",
    "n34=np.random.randint(low=1,high=20,size=(3,4))\n",
    "n34"
   ]
  },
  {
   "cell_type": "code",
   "execution_count": 108,
   "id": "97d73f9c",
   "metadata": {},
   "outputs": [
    {
     "data": {
      "text/plain": [
       "125"
      ]
     },
     "execution_count": 108,
     "metadata": {},
     "output_type": "execute_result"
    }
   ],
   "source": [
    "n34.sum()"
   ]
  },
  {
   "cell_type": "code",
   "execution_count": 109,
   "id": "31df2606",
   "metadata": {},
   "outputs": [
    {
     "data": {
      "text/plain": [
       "array([35, 35, 36, 19])"
      ]
     },
     "execution_count": 109,
     "metadata": {},
     "output_type": "execute_result"
    }
   ],
   "source": [
    "n34.sum(axis=0)  # vertical"
   ]
  },
  {
   "cell_type": "code",
   "execution_count": 110,
   "id": "1ccd152d",
   "metadata": {},
   "outputs": [
    {
     "data": {
      "text/plain": [
       "array([35, 42, 48])"
      ]
     },
     "execution_count": 110,
     "metadata": {},
     "output_type": "execute_result"
    }
   ],
   "source": [
    "n34.sum(axis=1)   # horizontal"
   ]
  },
  {
   "cell_type": "code",
   "execution_count": 111,
   "id": "b23913d6",
   "metadata": {},
   "outputs": [
    {
     "data": {
      "text/plain": [
       "array([[ 49,  81, 100,  81],\n",
       "       [196, 169,  64,  49],\n",
       "       [196, 169, 324,   9]], dtype=int32)"
      ]
     },
     "execution_count": 111,
     "metadata": {},
     "output_type": "execute_result"
    }
   ],
   "source": [
    "n34**2"
   ]
  },
  {
   "cell_type": "code",
   "execution_count": 114,
   "id": "92e5449f",
   "metadata": {},
   "outputs": [
    {
     "data": {
      "text/plain": [
       "array([[1, 0, 1, 0],\n",
       "       [2, 1, 2, 1],\n",
       "       [2, 1, 0, 0]], dtype=int32)"
      ]
     },
     "execution_count": 114,
     "metadata": {},
     "output_type": "execute_result"
    }
   ],
   "source": [
    "n22=np.remainder(n34,3)\n",
    "n22"
   ]
  },
  {
   "cell_type": "code",
   "execution_count": 113,
   "id": "739f0a45",
   "metadata": {},
   "outputs": [
    {
     "data": {
      "text/plain": [
       "array([[1, 0, 1, 0],\n",
       "       [2, 1, 2, 1],\n",
       "       [2, 1, 0, 0]], dtype=int32)"
      ]
     },
     "execution_count": 113,
     "metadata": {},
     "output_type": "execute_result"
    }
   ],
   "source": [
    "n34%3"
   ]
  },
  {
   "cell_type": "code",
   "execution_count": 115,
   "id": "5ae5ac72",
   "metadata": {},
   "outputs": [
    {
     "data": {
      "text/plain": [
       "array([[2.71828183, 1.        , 2.71828183, 1.        ],\n",
       "       [7.3890561 , 2.71828183, 7.3890561 , 2.71828183],\n",
       "       [7.3890561 , 2.71828183, 1.        , 1.        ]])"
      ]
     },
     "execution_count": 115,
     "metadata": {},
     "output_type": "execute_result"
    }
   ],
   "source": [
    "np.exp(n22)"
   ]
  },
  {
   "cell_type": "code",
   "execution_count": 117,
   "id": "53694800",
   "metadata": {},
   "outputs": [
    {
     "data": {
      "text/plain": [
       "2.718281828459045"
      ]
     },
     "execution_count": 117,
     "metadata": {},
     "output_type": "execute_result"
    }
   ],
   "source": [
    "np.e"
   ]
  },
  {
   "cell_type": "code",
   "execution_count": 119,
   "id": "1a7c6dd3",
   "metadata": {},
   "outputs": [
    {
     "data": {
      "text/plain": [
       "array([1., 2., 3., 4.])"
      ]
     },
     "execution_count": 119,
     "metadata": {},
     "output_type": "execute_result"
    }
   ],
   "source": [
    "np.log10(np.array([10,100,1000,10000]))"
   ]
  },
  {
   "cell_type": "code",
   "execution_count": null,
   "id": "3f69a645",
   "metadata": {},
   "outputs": [],
   "source": []
  },
  {
   "cell_type": "code",
   "execution_count": 9,
   "id": "4d251225",
   "metadata": {},
   "outputs": [
    {
     "data": {
      "text/plain": [
       "array([[93, 50, 83, 64, 41, 86, 49, 35, 61, 16, 55, 22],\n",
       "       [59, 76, 85, 95, 79, 74, 22, 31, 58, 51, 89, 72],\n",
       "       [67, 29, 43, 69, 49, 25, 46, 75, 11, 53, 25, 96],\n",
       "       [93, 68, 35, 76, 84, 45, 66, 23, 70, 32, 48, 41],\n",
       "       [88, 10, 31, 16, 42, 42, 24, 41, 88, 93, 90, 80],\n",
       "       [76, 92, 95, 65, 37, 72, 53, 84, 81, 52, 93, 31],\n",
       "       [16, 78, 32, 53, 18, 95, 72, 42, 70, 21, 11, 51],\n",
       "       [36, 47, 51, 66, 49, 91, 42, 63, 45, 33, 39, 52]])"
      ]
     },
     "execution_count": 9,
     "metadata": {},
     "output_type": "execute_result"
    }
   ],
   "source": [
    "np.random.seed(23)\n",
    "n9=np.random.randint(low=10, high=100, size=(8,12))\n",
    "n9"
   ]
  },
  {
   "cell_type": "code",
   "execution_count": 12,
   "id": "8b6ce1ec",
   "metadata": {},
   "outputs": [
    {
     "name": "stdout",
     "output_type": "stream",
     "text": [
      "<class 'list'>\n",
      "2\n",
      "\n",
      "[[93 50 83 64 41 86 49 35 61 16 55 22]\n",
      " [59 76 85 95 79 74 22 31 58 51 89 72]\n",
      " [67 29 43 69 49 25 46 75 11 53 25 96]\n",
      " [93 68 35 76 84 45 66 23 70 32 48 41]]\n",
      "<class 'numpy.ndarray'>\n",
      "(4, 12)\n",
      "\n",
      "[[88 10 31 16 42 42 24 41 88 93 90 80]\n",
      " [76 92 95 65 37 72 53 84 81 52 93 31]\n",
      " [16 78 32 53 18 95 72 42 70 21 11 51]\n",
      " [36 47 51 66 49 91 42 63 45 33 39 52]]\n",
      "<class 'numpy.ndarray'>\n",
      "(4, 12)\n",
      "\n"
     ]
    }
   ],
   "source": [
    "n_v=np.vsplit(n9, 2)\n",
    "print(type(n_v))\n",
    "print(len(n_v))\n",
    "print()\n",
    "for item in n_v:\n",
    "    print(item)\n",
    "    print(type(item))\n",
    "    print(item.shape)\n",
    "    print()\n"
   ]
  },
  {
   "cell_type": "code",
   "execution_count": 6,
   "id": "fa922a74",
   "metadata": {
    "scrolled": true
   },
   "outputs": [
    {
     "data": {
      "text/plain": [
       "array([[93, 50, 83, 64, 41, 86, 49, 35, 61, 16, 55, 22],\n",
       "       [59, 76, 85, 95, 79, 74, 22, 31, 58, 51, 89, 72],\n",
       "       [67, 29, 43, 69, 49, 25, 46, 75, 11, 53, 25, 96],\n",
       "       [93, 68, 35, 76, 84, 45, 66, 23, 70, 32, 48, 41],\n",
       "       [88, 10, 31, 16, 42, 42, 24, 41, 88, 93, 90, 80],\n",
       "       [76, 92, 95, 65, 37, 72, 53, 84, 81, 52, 93, 31],\n",
       "       [16, 78, 32, 53, 18, 95, 72, 42, 70, 21, 11, 51],\n",
       "       [36, 47, 51, 66, 49, 91, 42, 63, 45, 33, 39, 52]])"
      ]
     },
     "execution_count": 6,
     "metadata": {},
     "output_type": "execute_result"
    }
   ],
   "source": [
    "np.random.seed(23)\n",
    "n9=np.random.randint(low=10, high=100, size=(8,12))\n",
    "n9"
   ]
  },
  {
   "cell_type": "code",
   "execution_count": 8,
   "id": "354906c6",
   "metadata": {},
   "outputs": [
    {
     "name": "stdout",
     "output_type": "stream",
     "text": [
      "[array([[93, 50],\n",
      "       [59, 76],\n",
      "       [67, 29],\n",
      "       [93, 68],\n",
      "       [88, 10],\n",
      "       [76, 92],\n",
      "       [16, 78],\n",
      "       [36, 47]]), array([[83, 64],\n",
      "       [85, 95],\n",
      "       [43, 69],\n",
      "       [35, 76],\n",
      "       [31, 16],\n",
      "       [95, 65],\n",
      "       [32, 53],\n",
      "       [51, 66]]), array([[41, 86],\n",
      "       [79, 74],\n",
      "       [49, 25],\n",
      "       [84, 45],\n",
      "       [42, 42],\n",
      "       [37, 72],\n",
      "       [18, 95],\n",
      "       [49, 91]]), array([[49, 35],\n",
      "       [22, 31],\n",
      "       [46, 75],\n",
      "       [66, 23],\n",
      "       [24, 41],\n",
      "       [53, 84],\n",
      "       [72, 42],\n",
      "       [42, 63]]), array([[61, 16],\n",
      "       [58, 51],\n",
      "       [11, 53],\n",
      "       [70, 32],\n",
      "       [88, 93],\n",
      "       [81, 52],\n",
      "       [70, 21],\n",
      "       [45, 33]]), array([[55, 22],\n",
      "       [89, 72],\n",
      "       [25, 96],\n",
      "       [48, 41],\n",
      "       [90, 80],\n",
      "       [93, 31],\n",
      "       [11, 51],\n",
      "       [39, 52]])]\n"
     ]
    }
   ],
   "source": [
    "n_h=np.hsplit(n9, 6)\n",
    "print(n_h)"
   ]
  },
  {
   "cell_type": "code",
   "execution_count": 155,
   "id": "7a5372f0",
   "metadata": {},
   "outputs": [
    {
     "name": "stdout",
     "output_type": "stream",
     "text": [
      "<class 'list'>\n",
      "6\n",
      "\n",
      "[[93 50]\n",
      " [59 76]\n",
      " [67 29]\n",
      " [93 68]\n",
      " [88 10]\n",
      " [76 92]\n",
      " [16 78]\n",
      " [36 47]]\n",
      "<class 'numpy.ndarray'>\n",
      "(8, 2)\n",
      "\n",
      "[[83 64]\n",
      " [85 95]\n",
      " [43 69]\n",
      " [35 76]\n",
      " [31 16]\n",
      " [95 65]\n",
      " [32 53]\n",
      " [51 66]]\n",
      "<class 'numpy.ndarray'>\n",
      "(8, 2)\n",
      "\n",
      "[[41 86]\n",
      " [79 74]\n",
      " [49 25]\n",
      " [84 45]\n",
      " [42 42]\n",
      " [37 72]\n",
      " [18 95]\n",
      " [49 91]]\n",
      "<class 'numpy.ndarray'>\n",
      "(8, 2)\n",
      "\n",
      "[[49 35]\n",
      " [22 31]\n",
      " [46 75]\n",
      " [66 23]\n",
      " [24 41]\n",
      " [53 84]\n",
      " [72 42]\n",
      " [42 63]]\n",
      "<class 'numpy.ndarray'>\n",
      "(8, 2)\n",
      "\n",
      "[[61 16]\n",
      " [58 51]\n",
      " [11 53]\n",
      " [70 32]\n",
      " [88 93]\n",
      " [81 52]\n",
      " [70 21]\n",
      " [45 33]]\n",
      "<class 'numpy.ndarray'>\n",
      "(8, 2)\n",
      "\n",
      "[[55 22]\n",
      " [89 72]\n",
      " [25 96]\n",
      " [48 41]\n",
      " [90 80]\n",
      " [93 31]\n",
      " [11 51]\n",
      " [39 52]]\n",
      "<class 'numpy.ndarray'>\n",
      "(8, 2)\n",
      "\n"
     ]
    }
   ],
   "source": [
    "n_h=np.hsplit(n9, 6)\n",
    "print(type(n_h))\n",
    "print(len(n_h))\n",
    "print()\n",
    "for item in n_h:\n",
    "    print(item)\n",
    "    print(type(item))\n",
    "    print(item.shape)\n",
    "    print()"
   ]
  },
  {
   "cell_type": "code",
   "execution_count": 128,
   "id": "cc0cbc1a",
   "metadata": {},
   "outputs": [
    {
     "name": "stdout",
     "output_type": "stream",
     "text": [
      "<class 'list'>\n",
      "5\n",
      "\n",
      "[[93 50]\n",
      " [59 76]\n",
      " [67 29]\n",
      " [93 68]\n",
      " [88 10]\n",
      " [76 92]\n",
      " [16 78]\n",
      " [36 47]]\n",
      "<class 'numpy.ndarray'>\n",
      "(8, 2)\n",
      "\n",
      "[[83]\n",
      " [85]\n",
      " [43]\n",
      " [35]\n",
      " [31]\n",
      " [95]\n",
      " [32]\n",
      " [51]]\n",
      "<class 'numpy.ndarray'>\n",
      "(8, 1)\n",
      "\n",
      "[[64 41 86]\n",
      " [95 79 74]\n",
      " [69 49 25]\n",
      " [76 84 45]\n",
      " [16 42 42]\n",
      " [65 37 72]\n",
      " [53 18 95]\n",
      " [66 49 91]]\n",
      "<class 'numpy.ndarray'>\n",
      "(8, 3)\n",
      "\n",
      "[[49 35]\n",
      " [22 31]\n",
      " [46 75]\n",
      " [66 23]\n",
      " [24 41]\n",
      " [53 84]\n",
      " [72 42]\n",
      " [42 63]]\n",
      "<class 'numpy.ndarray'>\n",
      "(8, 2)\n",
      "\n",
      "[[61 16 55]\n",
      " [58 51 89]\n",
      " [11 53 25]\n",
      " [70 32 48]\n",
      " [88 93 90]\n",
      " [81 52 93]\n",
      " [70 21 11]\n",
      " [45 33 39]]\n",
      "<class 'numpy.ndarray'>\n",
      "(8, 3)\n",
      "\n",
      "[[22]\n",
      " [72]\n",
      " [96]\n",
      " [41]\n",
      " [80]\n",
      " [31]\n",
      " [51]\n",
      " [52]]\n",
      "<class 'numpy.ndarray'>\n",
      "(8, 1)\n",
      "\n"
     ]
    }
   ],
   "source": [
    "n_h=np.hsplit(n9,[2,3,6,8,11])   # :2:3:6:8:11:\n",
    "print(type(n_v))\n",
    "print(len(n))\n",
    "print()\n",
    "for item in n_h:\n",
    "    print(item)\n",
    "    print(type(item))\n",
    "    print(item.shape)\n",
    "    print()"
   ]
  },
  {
   "cell_type": "code",
   "execution_count": 132,
   "id": "c2b3877e",
   "metadata": {},
   "outputs": [
    {
     "name": "stdout",
     "output_type": "stream",
     "text": [
      "<class 'list'>\n",
      "7\n",
      "\n",
      "[[93 50 83]\n",
      " [59 76 85]\n",
      " [67 29 43]\n",
      " [93 68 35]\n",
      " [88 10 31]\n",
      " [76 92 95]\n",
      " [16 78 32]\n",
      " [36 47 51]]\n",
      "<class 'numpy.ndarray'>\n",
      "(8, 3)\n",
      "\n",
      "[[64 41]\n",
      " [95 79]\n",
      " [69 49]\n",
      " [76 84]\n",
      " [16 42]\n",
      " [65 37]\n",
      " [53 18]\n",
      " [66 49]]\n",
      "<class 'numpy.ndarray'>\n",
      "(8, 2)\n",
      "\n",
      "[[86]\n",
      " [74]\n",
      " [25]\n",
      " [45]\n",
      " [42]\n",
      " [72]\n",
      " [95]\n",
      " [91]]\n",
      "<class 'numpy.ndarray'>\n",
      "(8, 1)\n",
      "\n",
      "[[49]\n",
      " [22]\n",
      " [46]\n",
      " [66]\n",
      " [24]\n",
      " [53]\n",
      " [72]\n",
      " [42]]\n",
      "<class 'numpy.ndarray'>\n",
      "(8, 1)\n",
      "\n",
      "[[35 61]\n",
      " [31 58]\n",
      " [75 11]\n",
      " [23 70]\n",
      " [41 88]\n",
      " [84 81]\n",
      " [42 70]\n",
      " [63 45]]\n",
      "<class 'numpy.ndarray'>\n",
      "(8, 2)\n",
      "\n",
      "[[16]\n",
      " [51]\n",
      " [53]\n",
      " [32]\n",
      " [93]\n",
      " [52]\n",
      " [21]\n",
      " [33]]\n",
      "<class 'numpy.ndarray'>\n",
      "(8, 1)\n",
      "\n",
      "[[55 22]\n",
      " [89 72]\n",
      " [25 96]\n",
      " [48 41]\n",
      " [90 80]\n",
      " [93 31]\n",
      " [11 51]\n",
      " [39 52]]\n",
      "<class 'numpy.ndarray'>\n",
      "(8, 2)\n",
      "\n"
     ]
    }
   ],
   "source": [
    "n_h=np.hsplit(n9,[3,5,6,7,9,10])\n",
    "print(type(n_h))\n",
    "print(len(n_h))\n",
    "print()\n",
    "for item in n_h:\n",
    "    print(item)\n",
    "    print(type(item))\n",
    "    print(item.shape)\n",
    "    print()"
   ]
  },
  {
   "cell_type": "code",
   "execution_count": 131,
   "id": "f8fd31be",
   "metadata": {},
   "outputs": [
    {
     "ename": "TypeError",
     "evalue": "_hvdsplit_dispatcher() takes 2 positional arguments but 5 were given",
     "output_type": "error",
     "traceback": [
      "\u001b[1;31m---------------------------------------------------------------------------\u001b[0m",
      "\u001b[1;31mTypeError\u001b[0m                                 Traceback (most recent call last)",
      "\u001b[1;32m<ipython-input-131-4c889019d18a>\u001b[0m in \u001b[0;36m<module>\u001b[1;34m\u001b[0m\n\u001b[1;32m----> 1\u001b[1;33m \u001b[0mn_v\u001b[0m\u001b[1;33m=\u001b[0m\u001b[0mnp\u001b[0m\u001b[1;33m.\u001b[0m\u001b[0mvsplit\u001b[0m\u001b[1;33m(\u001b[0m\u001b[0mn9\u001b[0m\u001b[1;33m,\u001b[0m \u001b[1;36m0\u001b[0m\u001b[1;33m,\u001b[0m\u001b[1;36m4\u001b[0m\u001b[1;33m,\u001b[0m\u001b[1;36m5\u001b[0m\u001b[1;33m,\u001b[0m\u001b[1;36m6\u001b[0m\u001b[1;33m)\u001b[0m\u001b[1;33m\u001b[0m\u001b[1;33m\u001b[0m\u001b[0m\n\u001b[0m\u001b[0;32m      2\u001b[0m \u001b[0mprint\u001b[0m\u001b[1;33m(\u001b[0m\u001b[0mtype\u001b[0m\u001b[1;33m(\u001b[0m\u001b[0mn_v\u001b[0m\u001b[1;33m)\u001b[0m\u001b[1;33m)\u001b[0m\u001b[1;33m\u001b[0m\u001b[1;33m\u001b[0m\u001b[0m\n\u001b[0;32m      3\u001b[0m \u001b[0mprint\u001b[0m\u001b[1;33m(\u001b[0m\u001b[0mlen\u001b[0m\u001b[1;33m(\u001b[0m\u001b[0mn_v\u001b[0m\u001b[1;33m)\u001b[0m\u001b[1;33m)\u001b[0m\u001b[1;33m\u001b[0m\u001b[1;33m\u001b[0m\u001b[0m\n\u001b[0;32m      4\u001b[0m \u001b[0mprint\u001b[0m\u001b[1;33m(\u001b[0m\u001b[1;33m)\u001b[0m\u001b[1;33m\u001b[0m\u001b[1;33m\u001b[0m\u001b[0m\n\u001b[0;32m      5\u001b[0m \u001b[1;32mfor\u001b[0m \u001b[0mitem\u001b[0m \u001b[1;32min\u001b[0m \u001b[0mn_v\u001b[0m\u001b[1;33m:\u001b[0m\u001b[1;33m\u001b[0m\u001b[1;33m\u001b[0m\u001b[0m\n",
      "\u001b[1;32m<__array_function__ internals>\u001b[0m in \u001b[0;36mvsplit\u001b[1;34m(*args, **kwargs)\u001b[0m\n",
      "\u001b[1;31mTypeError\u001b[0m: _hvdsplit_dispatcher() takes 2 positional arguments but 5 were given"
     ]
    }
   ],
   "source": [
    "n_v=np.vsplit(n9, 0,4,)\n",
    "print(type(n_v))\n",
    "print(len(n_v))\n",
    "print()\n",
    "for item in n_v:\n",
    "    print(item)\n",
    "    print(type(item))\n",
    "    print(item.shape)\n",
    "    print()"
   ]
  },
  {
   "cell_type": "code",
   "execution_count": null,
   "id": "bad1854a",
   "metadata": {},
   "outputs": [],
   "source": []
  },
  {
   "cell_type": "markdown",
   "id": "63d2431c",
   "metadata": {},
   "source": [
    "## stack"
   ]
  },
  {
   "cell_type": "code",
   "execution_count": 133,
   "id": "eea265e0",
   "metadata": {},
   "outputs": [
    {
     "data": {
      "text/plain": [
       "array([[ 0,  1,  2,  3,  4,  5,  6,  7,  8],\n",
       "       [ 9, 10, 11, 12, 13, 14, 15, 16, 17],\n",
       "       [18, 19, 20, 21, 22, 23, 24, 25, 26]])"
      ]
     },
     "execution_count": 133,
     "metadata": {},
     "output_type": "execute_result"
    }
   ],
   "source": [
    "n39"
   ]
  },
  {
   "cell_type": "code",
   "execution_count": 135,
   "id": "d5e413f7",
   "metadata": {},
   "outputs": [
    {
     "name": "stdout",
     "output_type": "stream",
     "text": [
      "[[ 0  1  2  3]\n",
      " [ 4  5  6  7]\n",
      " [ 8  9 10 11]]\n"
     ]
    }
   ],
   "source": [
    "n34=np.arange(12).reshape(3,4)\n",
    "n64=np.arange(100,124).reshape(6,4)\n",
    "n36=np.arange(200,218).reshape(3,6)\n",
    "print(n34)"
   ]
  },
  {
   "cell_type": "code",
   "execution_count": 136,
   "id": "268efb3e",
   "metadata": {},
   "outputs": [
    {
     "data": {
      "text/plain": [
       "array([[100, 101, 102, 103],\n",
       "       [104, 105, 106, 107],\n",
       "       [108, 109, 110, 111],\n",
       "       [112, 113, 114, 115],\n",
       "       [116, 117, 118, 119],\n",
       "       [120, 121, 122, 123]])"
      ]
     },
     "execution_count": 136,
     "metadata": {},
     "output_type": "execute_result"
    }
   ],
   "source": [
    "n64"
   ]
  },
  {
   "cell_type": "code",
   "execution_count": 137,
   "id": "92cb66b0",
   "metadata": {},
   "outputs": [
    {
     "data": {
      "text/plain": [
       "array([[200, 201, 202, 203, 204, 205],\n",
       "       [206, 207, 208, 209, 210, 211],\n",
       "       [212, 213, 214, 215, 216, 217]])"
      ]
     },
     "execution_count": 137,
     "metadata": {},
     "output_type": "execute_result"
    }
   ],
   "source": [
    "n36"
   ]
  },
  {
   "cell_type": "code",
   "execution_count": 139,
   "id": "0a446f8d",
   "metadata": {},
   "outputs": [
    {
     "name": "stdout",
     "output_type": "stream",
     "text": [
      "(9, 4)\n"
     ]
    },
    {
     "data": {
      "text/plain": [
       "array([[  0,   1,   2,   3],\n",
       "       [  4,   5,   6,   7],\n",
       "       [  8,   9,  10,  11],\n",
       "       [100, 101, 102, 103],\n",
       "       [104, 105, 106, 107],\n",
       "       [108, 109, 110, 111],\n",
       "       [112, 113, 114, 115],\n",
       "       [116, 117, 118, 119],\n",
       "       [120, 121, 122, 123]])"
      ]
     },
     "execution_count": 139,
     "metadata": {},
     "output_type": "execute_result"
    }
   ],
   "source": [
    "n=np.vstack((n34,n64))\n",
    "print(n.shape)\n",
    "n"
   ]
  },
  {
   "cell_type": "code",
   "execution_count": 143,
   "id": "88b05113",
   "metadata": {},
   "outputs": [],
   "source": [
    "x=[\n",
    "    [[11,12,13,14],[15,16,17,18],[19,20,21,22]],\n",
    "    [[31,32,33,34],[35,36,37,38],[39,40,41,42]]\n",
    "]"
   ]
  },
  {
   "cell_type": "code",
   "execution_count": 144,
   "id": "4702919c",
   "metadata": {},
   "outputs": [
    {
     "name": "stdout",
     "output_type": "stream",
     "text": [
      "(2, 3, 4)\n"
     ]
    },
    {
     "data": {
      "text/plain": [
       "array([[[11, 12, 13, 14],\n",
       "        [15, 16, 17, 18],\n",
       "        [19, 20, 21, 22]],\n",
       "\n",
       "       [[31, 32, 33, 34],\n",
       "        [35, 36, 37, 38],\n",
       "        [39, 40, 41, 42]]])"
      ]
     },
     "execution_count": 144,
     "metadata": {},
     "output_type": "execute_result"
    }
   ],
   "source": [
    "n=np.array(x)\n",
    "print(n.shape)\n",
    "n"
   ]
  },
  {
   "cell_type": "code",
   "execution_count": 145,
   "id": "a18c1738",
   "metadata": {},
   "outputs": [
    {
     "data": {
      "text/plain": [
       "37"
      ]
     },
     "execution_count": 145,
     "metadata": {},
     "output_type": "execute_result"
    }
   ],
   "source": [
    "n[1,1,2]"
   ]
  },
  {
   "cell_type": "code",
   "execution_count": 146,
   "id": "4792d6b8",
   "metadata": {},
   "outputs": [
    {
     "data": {
      "text/plain": [
       "array([16, 36])"
      ]
     },
     "execution_count": 146,
     "metadata": {},
     "output_type": "execute_result"
    }
   ],
   "source": [
    "n[:,1,1]"
   ]
  },
  {
   "cell_type": "code",
   "execution_count": 147,
   "id": "dbca450a",
   "metadata": {},
   "outputs": [],
   "source": [
    "n1=np.arange(100,124).reshape(3,4,2)\n",
    "n2=np.arange(200,272).reshape(3,4,6)"
   ]
  },
  {
   "cell_type": "code",
   "execution_count": 148,
   "id": "83e2036a",
   "metadata": {},
   "outputs": [
    {
     "data": {
      "text/plain": [
       "array([[[100, 101, 200, 201, 202, 203, 204, 205],\n",
       "        [102, 103, 206, 207, 208, 209, 210, 211],\n",
       "        [104, 105, 212, 213, 214, 215, 216, 217],\n",
       "        [106, 107, 218, 219, 220, 221, 222, 223]],\n",
       "\n",
       "       [[108, 109, 224, 225, 226, 227, 228, 229],\n",
       "        [110, 111, 230, 231, 232, 233, 234, 235],\n",
       "        [112, 113, 236, 237, 238, 239, 240, 241],\n",
       "        [114, 115, 242, 243, 244, 245, 246, 247]],\n",
       "\n",
       "       [[116, 117, 248, 249, 250, 251, 252, 253],\n",
       "        [118, 119, 254, 255, 256, 257, 258, 259],\n",
       "        [120, 121, 260, 261, 262, 263, 264, 265],\n",
       "        [122, 123, 266, 267, 268, 269, 270, 271]]])"
      ]
     },
     "execution_count": 148,
     "metadata": {},
     "output_type": "execute_result"
    }
   ],
   "source": [
    "n=np.dstack((n1,n2))\n",
    "n"
   ]
  },
  {
   "cell_type": "code",
   "execution_count": 154,
   "id": "bc64fa2a",
   "metadata": {},
   "outputs": [],
   "source": [
    "n1=np.arange(11,23).reshape(3,4)\n",
    "n2=np.arange(31,43).reshape(3,4)"
   ]
  },
  {
   "cell_type": "code",
   "execution_count": 150,
   "id": "7c4a8194",
   "metadata": {},
   "outputs": [
    {
     "data": {
      "text/plain": [
       "array([[11, 12, 13, 14],\n",
       "       [15, 16, 17, 18],\n",
       "       [19, 20, 21, 22]])"
      ]
     },
     "execution_count": 150,
     "metadata": {},
     "output_type": "execute_result"
    }
   ],
   "source": [
    "n1"
   ]
  },
  {
   "cell_type": "code",
   "execution_count": 151,
   "id": "1b60845d",
   "metadata": {},
   "outputs": [
    {
     "data": {
      "text/plain": [
       "array([[31, 32, 33, 34],\n",
       "       [35, 36, 37, 38],\n",
       "       [39, 40, 41, 42]])"
      ]
     },
     "execution_count": 151,
     "metadata": {},
     "output_type": "execute_result"
    }
   ],
   "source": [
    "n2"
   ]
  },
  {
   "cell_type": "code",
   "execution_count": 152,
   "id": "c2dbba60",
   "metadata": {},
   "outputs": [
    {
     "name": "stdout",
     "output_type": "stream",
     "text": [
      "(3, 2, 4)\n"
     ]
    },
    {
     "data": {
      "text/plain": [
       "array([[[11, 12, 13, 14],\n",
       "        [31, 32, 33, 34]],\n",
       "\n",
       "       [[15, 16, 17, 18],\n",
       "        [35, 36, 37, 38]],\n",
       "\n",
       "       [[19, 20, 21, 22],\n",
       "        [39, 40, 41, 42]]])"
      ]
     },
     "execution_count": 152,
     "metadata": {},
     "output_type": "execute_result"
    }
   ],
   "source": [
    "m=np.stack((n1,n2),axis=1)\n",
    "print(m.shape)\n",
    "m"
   ]
  },
  {
   "cell_type": "code",
   "execution_count": null,
   "id": "a4b31255",
   "metadata": {},
   "outputs": [],
   "source": []
  },
  {
   "cell_type": "code",
   "execution_count": 157,
   "id": "8a6018b2",
   "metadata": {},
   "outputs": [],
   "source": [
    "t1=np.arange(5)\n",
    "t2=np.arange(10,15)"
   ]
  },
  {
   "cell_type": "code",
   "execution_count": 158,
   "id": "dc8068c6",
   "metadata": {},
   "outputs": [
    {
     "data": {
      "text/plain": [
       "array([0, 1, 2, 3, 4])"
      ]
     },
     "execution_count": 158,
     "metadata": {},
     "output_type": "execute_result"
    }
   ],
   "source": [
    "t1"
   ]
  },
  {
   "cell_type": "code",
   "execution_count": 159,
   "id": "5e473b02",
   "metadata": {},
   "outputs": [
    {
     "data": {
      "text/plain": [
       "array([10, 11, 12, 13, 14])"
      ]
     },
     "execution_count": 159,
     "metadata": {},
     "output_type": "execute_result"
    }
   ],
   "source": [
    "t2"
   ]
  },
  {
   "cell_type": "code",
   "execution_count": 160,
   "id": "cb8d6bfb",
   "metadata": {},
   "outputs": [
    {
     "data": {
      "text/plain": [
       "array([[ 0, 10],\n",
       "       [ 1, 11],\n",
       "       [ 2, 12],\n",
       "       [ 3, 13],\n",
       "       [ 4, 14]])"
      ]
     },
     "execution_count": 160,
     "metadata": {},
     "output_type": "execute_result"
    }
   ],
   "source": [
    "np.column_stack((t1,t2))"
   ]
  },
  {
   "cell_type": "code",
   "execution_count": 161,
   "id": "db8f3c1b",
   "metadata": {},
   "outputs": [
    {
     "data": {
      "text/plain": [
       "array([[ 0,  1,  2,  3,  4],\n",
       "       [10, 11, 12, 13, 14]])"
      ]
     },
     "execution_count": 161,
     "metadata": {},
     "output_type": "execute_result"
    }
   ],
   "source": [
    "np.row_stack((t1,t2))"
   ]
  },
  {
   "cell_type": "markdown",
   "id": "953ccae6",
   "metadata": {},
   "source": [
    "## linspace"
   ]
  },
  {
   "cell_type": "code",
   "execution_count": 165,
   "id": "850c9dc7",
   "metadata": {},
   "outputs": [
    {
     "data": {
      "text/plain": [
       "array([ 50., 100., 150., 200., 250., 300.])"
      ]
     },
     "execution_count": 165,
     "metadata": {},
     "output_type": "execute_result"
    }
   ],
   "source": [
    "np.linspace(start=50, stop=300, num=6)"
   ]
  },
  {
   "cell_type": "code",
   "execution_count": 167,
   "id": "98df28fc",
   "metadata": {},
   "outputs": [
    {
     "data": {
      "text/plain": [
       "(array([ 50., 100., 150., 200., 250., 300.]), 50.0)"
      ]
     },
     "execution_count": 167,
     "metadata": {},
     "output_type": "execute_result"
    }
   ],
   "source": [
    "np.linspace(start=50, stop=300, num=6, retstep=True)"
   ]
  },
  {
   "cell_type": "code",
   "execution_count": null,
   "id": "95565c5c",
   "metadata": {},
   "outputs": [],
   "source": []
  },
  {
   "cell_type": "markdown",
   "id": "43557793",
   "metadata": {},
   "source": [
    "### Numpy vs list"
   ]
  },
  {
   "cell_type": "code",
   "execution_count": 2,
   "id": "5ba9f2a0",
   "metadata": {},
   "outputs": [],
   "source": [
    "import time"
   ]
  },
  {
   "cell_type": "code",
   "execution_count": 169,
   "id": "14a70dd9",
   "metadata": {},
   "outputs": [
    {
     "data": {
      "text/plain": [
       "1634549402.882722"
      ]
     },
     "execution_count": 169,
     "metadata": {},
     "output_type": "execute_result"
    }
   ],
   "source": [
    "time.time()"
   ]
  },
  {
   "cell_type": "code",
   "execution_count": 170,
   "id": "83465b00",
   "metadata": {},
   "outputs": [
    {
     "data": {
      "text/plain": [
       "1634549414.0322552"
      ]
     },
     "execution_count": 170,
     "metadata": {},
     "output_type": "execute_result"
    }
   ],
   "source": [
    "time.time()"
   ]
  },
  {
   "cell_type": "code",
   "execution_count": 3,
   "id": "e1ff3cc2",
   "metadata": {},
   "outputs": [
    {
     "name": "stdout",
     "output_type": "stream",
     "text": [
      "1634549534.3632536\n",
      "1634549544.366391\n"
     ]
    }
   ],
   "source": [
    "print(time.time())\n",
    "time.sleep(10)\n",
    "print(time.time())"
   ]
  },
  {
   "cell_type": "code",
   "execution_count": 5,
   "id": "0c64c0fb",
   "metadata": {},
   "outputs": [
    {
     "name": "stdout",
     "output_type": "stream",
     "text": [
      "time taken 0.41617727279663086\n"
     ]
    },
    {
     "data": {
      "text/plain": [
       "3999998"
      ]
     },
     "execution_count": 5,
     "metadata": {},
     "output_type": "execute_result"
    }
   ],
   "source": [
    "s=2000000\n",
    "p1=list(range(s))\n",
    "p2=list(range(s))\n",
    "\n",
    "st=time.time()\n",
    "P=[p1[n]+p2[n] for n in range(s)]\n",
    "print(\"time taken\",time.time()-st)\n",
    "P[-1]"
   ]
  },
  {
   "cell_type": "code",
   "execution_count": 10,
   "id": "0cb38a04",
   "metadata": {},
   "outputs": [
    {
     "name": "stdout",
     "output_type": "stream",
     "text": [
      "time taken 0.03209853172302246\n"
     ]
    },
    {
     "data": {
      "text/plain": [
       "3999998"
      ]
     },
     "execution_count": 10,
     "metadata": {},
     "output_type": "execute_result"
    }
   ],
   "source": [
    "s=2000000\n",
    "p1=np.arange(s)\n",
    "p2=np.arange(s)\n",
    "\n",
    "st=time.time()\n",
    "P=p1+p2\n",
    "print(\"time taken\",time.time()-st)\n",
    "P[-1]"
   ]
  },
  {
   "cell_type": "code",
   "execution_count": 11,
   "id": "943f27e6",
   "metadata": {},
   "outputs": [],
   "source": [
    "## looping"
   ]
  },
  {
   "cell_type": "code",
   "execution_count": 12,
   "id": "dfdfc2c0",
   "metadata": {},
   "outputs": [
    {
     "data": {
      "text/plain": [
       "array([[ 0,  1,  2,  3],\n",
       "       [ 4,  5,  6,  7],\n",
       "       [ 8,  9, 10, 11]])"
      ]
     },
     "execution_count": 12,
     "metadata": {},
     "output_type": "execute_result"
    }
   ],
   "source": [
    "n34=np.arange(12).reshape(3,4)\n",
    "n34"
   ]
  },
  {
   "cell_type": "code",
   "execution_count": 13,
   "id": "cd2cd72d",
   "metadata": {},
   "outputs": [
    {
     "name": "stdout",
     "output_type": "stream",
     "text": [
      "[0 1 2 3]\n",
      "\n",
      "[4 5 6 7]\n",
      "\n",
      "[ 8  9 10 11]\n",
      "\n"
     ]
    }
   ],
   "source": [
    "for element in n34:\n",
    "    print(element)\n",
    "    print()"
   ]
  },
  {
   "cell_type": "code",
   "execution_count": 16,
   "id": "61e56804",
   "metadata": {},
   "outputs": [
    {
     "name": "stdout",
     "output_type": "stream",
     "text": [
      "0\n",
      "1\n",
      "2\n",
      "3\n",
      "4\n",
      "5\n",
      "6\n",
      "7\n",
      "8\n",
      "9\n",
      "10\n",
      "11\n"
     ]
    }
   ],
   "source": [
    "for i in np.nditer(n34):\n",
    "    print(i)"
   ]
  },
  {
   "cell_type": "code",
   "execution_count": 14,
   "id": "396dd600",
   "metadata": {
    "scrolled": true
   },
   "outputs": [
    {
     "name": "stdout",
     "output_type": "stream",
     "text": [
      "((0, 0), 0)\n",
      "\n",
      "((0, 1), 1)\n",
      "\n",
      "((0, 2), 2)\n",
      "\n",
      "((0, 3), 3)\n",
      "\n",
      "((1, 0), 4)\n",
      "\n",
      "((1, 1), 5)\n",
      "\n",
      "((1, 2), 6)\n",
      "\n",
      "((1, 3), 7)\n",
      "\n",
      "((2, 0), 8)\n",
      "\n",
      "((2, 1), 9)\n",
      "\n",
      "((2, 2), 10)\n",
      "\n",
      "((2, 3), 11)\n",
      "\n"
     ]
    }
   ],
   "source": [
    "for value in np.ndenumerate(n34):\n",
    "    print(value)\n",
    "    print()"
   ]
  },
  {
   "cell_type": "markdown",
   "id": "7db0e2ab",
   "metadata": {},
   "source": [
    "## insert"
   ]
  },
  {
   "cell_type": "code",
   "execution_count": 17,
   "id": "f94e59d2",
   "metadata": {},
   "outputs": [
    {
     "data": {
      "text/plain": [
       "array([[0, 1],\n",
       "       [2, 3],\n",
       "       [4, 5],\n",
       "       [6, 7]])"
      ]
     },
     "execution_count": 17,
     "metadata": {},
     "output_type": "execute_result"
    }
   ],
   "source": [
    "n42=np.arange(8).reshape(4,2)\n",
    "n42"
   ]
  },
  {
   "cell_type": "code",
   "execution_count": 18,
   "id": "06945bc0",
   "metadata": {},
   "outputs": [
    {
     "name": "stdout",
     "output_type": "stream",
     "text": [
      "(5, 2)\n"
     ]
    },
    {
     "data": {
      "text/plain": [
       "array([[  0,   1],\n",
       "       [  2,   3],\n",
       "       [  4,   5],\n",
       "       [  6,   7],\n",
       "       [888, 999]])"
      ]
     },
     "execution_count": 18,
     "metadata": {},
     "output_type": "execute_result"
    }
   ],
   "source": [
    "n=np.insert(n42, 4,[888,999], axis=0)\n",
    "print(n.shape)\n",
    "n"
   ]
  },
  {
   "cell_type": "markdown",
   "id": "5cc32fc6",
   "metadata": {},
   "source": [
    "## intersection"
   ]
  },
  {
   "cell_type": "code",
   "execution_count": 22,
   "id": "291a07f0",
   "metadata": {},
   "outputs": [
    {
     "name": "stdout",
     "output_type": "stream",
     "text": [
      "[[ 7  9 10  9 14 13  8  7 14 13]\n",
      " [18  3 12  6  1 13 17 10 16  2]]\n",
      "[[ 8 16  5  2  2 12 16  8  3 11]\n",
      " [13  4  1 14  7 15  1  7  1  3]]\n",
      "\n",
      "[ 1  2  3  7  8 12 13 14 16]\n"
     ]
    }
   ],
   "source": [
    "np.random.seed(23)\n",
    "n1=np.random.randint(low=1, high=20, size=(2,10) )\n",
    "n2=np.random.randint(low=1, high=20, size=(2,10) )\n",
    "print(n1)\n",
    "print(n2)\n",
    "print()\n",
    "x=np.intersect1d(n1,n2)\n",
    "print(x)"
   ]
  }
 ],
 "metadata": {
  "kernelspec": {
   "display_name": "Python 3",
   "language": "python",
   "name": "python3"
  },
  "language_info": {
   "codemirror_mode": {
    "name": "ipython",
    "version": 3
   },
   "file_extension": ".py",
   "mimetype": "text/x-python",
   "name": "python",
   "nbconvert_exporter": "python",
   "pygments_lexer": "ipython3",
   "version": "3.8.8"
  }
 },
 "nbformat": 4,
 "nbformat_minor": 5
}
